{
 "cells": [
  {
   "cell_type": "code",
   "execution_count": 46,
   "metadata": {},
   "outputs": [],
   "source": [
    "import numpy as np\n",
    "import pandas as pd\n",
    "from pandas import DataFrame, Series"
   ]
  },
  {
   "cell_type": "code",
   "execution_count": 79,
   "metadata": {},
   "outputs": [
    {
     "data": {
      "text/html": [
       "<div>\n",
       "<style scoped>\n",
       "    .dataframe tbody tr th:only-of-type {\n",
       "        vertical-align: middle;\n",
       "    }\n",
       "\n",
       "    .dataframe tbody tr th {\n",
       "        vertical-align: top;\n",
       "    }\n",
       "\n",
       "    .dataframe thead th {\n",
       "        text-align: right;\n",
       "    }\n",
       "</style>\n",
       "<table border=\"1\" class=\"dataframe\">\n",
       "  <thead>\n",
       "    <tr style=\"text-align: right;\">\n",
       "      <th></th>\n",
       "      <th>0</th>\n",
       "      <th>1</th>\n",
       "      <th>2</th>\n",
       "      <th>3</th>\n",
       "      <th>4</th>\n",
       "      <th>5</th>\n",
       "      <th>6</th>\n",
       "      <th>7</th>\n",
       "      <th>8</th>\n",
       "      <th>9</th>\n",
       "      <th>10</th>\n",
       "      <th>11</th>\n",
       "      <th>12</th>\n",
       "      <th>13</th>\n",
       "      <th>14</th>\n",
       "    </tr>\n",
       "  </thead>\n",
       "  <tbody>\n",
       "    <tr>\n",
       "      <th>0</th>\n",
       "      <td>39</td>\n",
       "      <td>State-gov</td>\n",
       "      <td>77516</td>\n",
       "      <td>Bachelors</td>\n",
       "      <td>13</td>\n",
       "      <td>Never-married</td>\n",
       "      <td>Adm-clerical</td>\n",
       "      <td>Not-in-family</td>\n",
       "      <td>White</td>\n",
       "      <td>Male</td>\n",
       "      <td>2174</td>\n",
       "      <td>0</td>\n",
       "      <td>40</td>\n",
       "      <td>United-States</td>\n",
       "      <td>&lt;=50K</td>\n",
       "    </tr>\n",
       "    <tr>\n",
       "      <th>1</th>\n",
       "      <td>50</td>\n",
       "      <td>Self-emp-not-inc</td>\n",
       "      <td>83311</td>\n",
       "      <td>Bachelors</td>\n",
       "      <td>13</td>\n",
       "      <td>Married-civ-spouse</td>\n",
       "      <td>Exec-managerial</td>\n",
       "      <td>Husband</td>\n",
       "      <td>White</td>\n",
       "      <td>Male</td>\n",
       "      <td>0</td>\n",
       "      <td>0</td>\n",
       "      <td>13</td>\n",
       "      <td>United-States</td>\n",
       "      <td>&lt;=50K</td>\n",
       "    </tr>\n",
       "    <tr>\n",
       "      <th>2</th>\n",
       "      <td>38</td>\n",
       "      <td>Private</td>\n",
       "      <td>215646</td>\n",
       "      <td>HS-grad</td>\n",
       "      <td>9</td>\n",
       "      <td>Divorced</td>\n",
       "      <td>Handlers-cleaners</td>\n",
       "      <td>Not-in-family</td>\n",
       "      <td>White</td>\n",
       "      <td>Male</td>\n",
       "      <td>0</td>\n",
       "      <td>0</td>\n",
       "      <td>40</td>\n",
       "      <td>United-States</td>\n",
       "      <td>&lt;=50K</td>\n",
       "    </tr>\n",
       "    <tr>\n",
       "      <th>3</th>\n",
       "      <td>53</td>\n",
       "      <td>Private</td>\n",
       "      <td>234721</td>\n",
       "      <td>11th</td>\n",
       "      <td>7</td>\n",
       "      <td>Married-civ-spouse</td>\n",
       "      <td>Handlers-cleaners</td>\n",
       "      <td>Husband</td>\n",
       "      <td>Black</td>\n",
       "      <td>Male</td>\n",
       "      <td>0</td>\n",
       "      <td>0</td>\n",
       "      <td>40</td>\n",
       "      <td>United-States</td>\n",
       "      <td>&lt;=50K</td>\n",
       "    </tr>\n",
       "    <tr>\n",
       "      <th>4</th>\n",
       "      <td>28</td>\n",
       "      <td>Private</td>\n",
       "      <td>338409</td>\n",
       "      <td>Bachelors</td>\n",
       "      <td>13</td>\n",
       "      <td>Married-civ-spouse</td>\n",
       "      <td>Prof-specialty</td>\n",
       "      <td>Wife</td>\n",
       "      <td>Black</td>\n",
       "      <td>Female</td>\n",
       "      <td>0</td>\n",
       "      <td>0</td>\n",
       "      <td>40</td>\n",
       "      <td>Cuba</td>\n",
       "      <td>&lt;=50K</td>\n",
       "    </tr>\n",
       "  </tbody>\n",
       "</table>\n",
       "</div>"
      ],
      "text/plain": [
       "   0                  1       2           3   4                    5   \\\n",
       "0  39          State-gov   77516   Bachelors  13        Never-married   \n",
       "1  50   Self-emp-not-inc   83311   Bachelors  13   Married-civ-spouse   \n",
       "2  38            Private  215646     HS-grad   9             Divorced   \n",
       "3  53            Private  234721        11th   7   Married-civ-spouse   \n",
       "4  28            Private  338409   Bachelors  13   Married-civ-spouse   \n",
       "\n",
       "                   6               7       8        9     10  11  12  \\\n",
       "0        Adm-clerical   Not-in-family   White     Male  2174   0  40   \n",
       "1     Exec-managerial         Husband   White     Male     0   0  13   \n",
       "2   Handlers-cleaners   Not-in-family   White     Male     0   0  40   \n",
       "3   Handlers-cleaners         Husband   Black     Male     0   0  40   \n",
       "4      Prof-specialty            Wife   Black   Female     0   0  40   \n",
       "\n",
       "               13      14  \n",
       "0   United-States   <=50K  \n",
       "1   United-States   <=50K  \n",
       "2   United-States   <=50K  \n",
       "3   United-States   <=50K  \n",
       "4            Cuba   <=50K  "
      ]
     },
     "execution_count": 79,
     "metadata": {},
     "output_type": "execute_result"
    }
   ],
   "source": [
    "'''Task 1:\n",
    "Read the following data set: https://archive.ics.uci.edu/ml/machine-learning-databases/adult/'''\n",
    "\n",
    "df = pd.read_csv('https://archive.ics.uci.edu/ml/machine-learning-databases/adult/adult.data', header=None)\n",
    "df.head(5)"
   ]
  },
  {
   "cell_type": "code",
   "execution_count": 80,
   "metadata": {},
   "outputs": [
    {
     "data": {
      "text/html": [
       "<div>\n",
       "<style scoped>\n",
       "    .dataframe tbody tr th:only-of-type {\n",
       "        vertical-align: middle;\n",
       "    }\n",
       "\n",
       "    .dataframe tbody tr th {\n",
       "        vertical-align: top;\n",
       "    }\n",
       "\n",
       "    .dataframe thead th {\n",
       "        text-align: right;\n",
       "    }\n",
       "</style>\n",
       "<table border=\"1\" class=\"dataframe\">\n",
       "  <thead>\n",
       "    <tr style=\"text-align: right;\">\n",
       "      <th></th>\n",
       "      <th>age</th>\n",
       "      <th>workclass</th>\n",
       "      <th>fnlwgt</th>\n",
       "      <th>education</th>\n",
       "      <th>education_num</th>\n",
       "      <th>marital_status</th>\n",
       "      <th>occupation</th>\n",
       "      <th>relationship</th>\n",
       "      <th>race</th>\n",
       "      <th>sex</th>\n",
       "      <th>capital_gain</th>\n",
       "      <th>capital_loss</th>\n",
       "      <th>hours_per_week</th>\n",
       "      <th>native_country</th>\n",
       "      <th>income</th>\n",
       "    </tr>\n",
       "  </thead>\n",
       "  <tbody>\n",
       "    <tr>\n",
       "      <th>0</th>\n",
       "      <td>39</td>\n",
       "      <td>State-gov</td>\n",
       "      <td>77516</td>\n",
       "      <td>Bachelors</td>\n",
       "      <td>13</td>\n",
       "      <td>Never-married</td>\n",
       "      <td>Adm-clerical</td>\n",
       "      <td>Not-in-family</td>\n",
       "      <td>White</td>\n",
       "      <td>Male</td>\n",
       "      <td>2174</td>\n",
       "      <td>0</td>\n",
       "      <td>40</td>\n",
       "      <td>United-States</td>\n",
       "      <td>&lt;=50K</td>\n",
       "    </tr>\n",
       "    <tr>\n",
       "      <th>1</th>\n",
       "      <td>50</td>\n",
       "      <td>Self-emp-not-inc</td>\n",
       "      <td>83311</td>\n",
       "      <td>Bachelors</td>\n",
       "      <td>13</td>\n",
       "      <td>Married-civ-spouse</td>\n",
       "      <td>Exec-managerial</td>\n",
       "      <td>Husband</td>\n",
       "      <td>White</td>\n",
       "      <td>Male</td>\n",
       "      <td>0</td>\n",
       "      <td>0</td>\n",
       "      <td>13</td>\n",
       "      <td>United-States</td>\n",
       "      <td>&lt;=50K</td>\n",
       "    </tr>\n",
       "    <tr>\n",
       "      <th>2</th>\n",
       "      <td>38</td>\n",
       "      <td>Private</td>\n",
       "      <td>215646</td>\n",
       "      <td>HS-grad</td>\n",
       "      <td>9</td>\n",
       "      <td>Divorced</td>\n",
       "      <td>Handlers-cleaners</td>\n",
       "      <td>Not-in-family</td>\n",
       "      <td>White</td>\n",
       "      <td>Male</td>\n",
       "      <td>0</td>\n",
       "      <td>0</td>\n",
       "      <td>40</td>\n",
       "      <td>United-States</td>\n",
       "      <td>&lt;=50K</td>\n",
       "    </tr>\n",
       "    <tr>\n",
       "      <th>3</th>\n",
       "      <td>53</td>\n",
       "      <td>Private</td>\n",
       "      <td>234721</td>\n",
       "      <td>11th</td>\n",
       "      <td>7</td>\n",
       "      <td>Married-civ-spouse</td>\n",
       "      <td>Handlers-cleaners</td>\n",
       "      <td>Husband</td>\n",
       "      <td>Black</td>\n",
       "      <td>Male</td>\n",
       "      <td>0</td>\n",
       "      <td>0</td>\n",
       "      <td>40</td>\n",
       "      <td>United-States</td>\n",
       "      <td>&lt;=50K</td>\n",
       "    </tr>\n",
       "    <tr>\n",
       "      <th>4</th>\n",
       "      <td>28</td>\n",
       "      <td>Private</td>\n",
       "      <td>338409</td>\n",
       "      <td>Bachelors</td>\n",
       "      <td>13</td>\n",
       "      <td>Married-civ-spouse</td>\n",
       "      <td>Prof-specialty</td>\n",
       "      <td>Wife</td>\n",
       "      <td>Black</td>\n",
       "      <td>Female</td>\n",
       "      <td>0</td>\n",
       "      <td>0</td>\n",
       "      <td>40</td>\n",
       "      <td>Cuba</td>\n",
       "      <td>&lt;=50K</td>\n",
       "    </tr>\n",
       "  </tbody>\n",
       "</table>\n",
       "</div>"
      ],
      "text/plain": [
       "   age          workclass  fnlwgt   education  education_num  \\\n",
       "0   39          State-gov   77516   Bachelors             13   \n",
       "1   50   Self-emp-not-inc   83311   Bachelors             13   \n",
       "2   38            Private  215646     HS-grad              9   \n",
       "3   53            Private  234721        11th              7   \n",
       "4   28            Private  338409   Bachelors             13   \n",
       "\n",
       "        marital_status          occupation    relationship    race      sex  \\\n",
       "0        Never-married        Adm-clerical   Not-in-family   White     Male   \n",
       "1   Married-civ-spouse     Exec-managerial         Husband   White     Male   \n",
       "2             Divorced   Handlers-cleaners   Not-in-family   White     Male   \n",
       "3   Married-civ-spouse   Handlers-cleaners         Husband   Black     Male   \n",
       "4   Married-civ-spouse      Prof-specialty            Wife   Black   Female   \n",
       "\n",
       "   capital_gain  capital_loss  hours_per_week  native_country  income  \n",
       "0          2174             0              40   United-States   <=50K  \n",
       "1             0             0              13   United-States   <=50K  \n",
       "2             0             0              40   United-States   <=50K  \n",
       "3             0             0              40   United-States   <=50K  \n",
       "4             0             0              40            Cuba   <=50K  "
      ]
     },
     "execution_count": 80,
     "metadata": {},
     "output_type": "execute_result"
    }
   ],
   "source": [
    "'''Rename the columns as per the description from this file:\n",
    "https://archive.ics.uci.edu/ml/machine-learning-databases/adult/adult.names'''\n",
    "\n",
    "df.columns =['age','workclass','fnlwgt','education','education_num','marital_status','occupation','relationship','race','sex','capital_gain',\n",
    "            'capital_loss','hours_per_week','native_country','income']\n",
    "\n",
    "df.head(5)"
   ]
  },
  {
   "cell_type": "code",
   "execution_count": 81,
   "metadata": {},
   "outputs": [],
   "source": [
    "'''Task:\n",
    "Create a sql db from adult dataset and name it sqladb'''\n",
    "\n",
    "import sqlite3\n",
    "connection = sqlite3.connect(':memory:')\n",
    "cursor = connection.cursor()\n",
    "df.to_sql('sqladb',connection)"
   ]
  },
  {
   "cell_type": "code",
   "execution_count": 82,
   "metadata": {},
   "outputs": [
    {
     "name": "stdout",
     "output_type": "stream",
     "text": [
      "   index  age          workclass  fnlwgt   education  education_num  \\\n",
      "0      0   39          State-gov   77516   Bachelors             13   \n",
      "1      1   50   Self-emp-not-inc   83311   Bachelors             13   \n",
      "2      2   38            Private  215646     HS-grad              9   \n",
      "3      3   53            Private  234721        11th              7   \n",
      "4      4   28            Private  338409   Bachelors             13   \n",
      "5      5   37            Private  284582     Masters             14   \n",
      "6      6   49            Private  160187         9th              5   \n",
      "7      7   52   Self-emp-not-inc  209642     HS-grad              9   \n",
      "8      8   31            Private   45781     Masters             14   \n",
      "9      9   42            Private  159449   Bachelors             13   \n",
      "\n",
      "           marital_status          occupation    relationship    race  \\\n",
      "0           Never-married        Adm-clerical   Not-in-family   White   \n",
      "1      Married-civ-spouse     Exec-managerial         Husband   White   \n",
      "2                Divorced   Handlers-cleaners   Not-in-family   White   \n",
      "3      Married-civ-spouse   Handlers-cleaners         Husband   Black   \n",
      "4      Married-civ-spouse      Prof-specialty            Wife   Black   \n",
      "5      Married-civ-spouse     Exec-managerial            Wife   White   \n",
      "6   Married-spouse-absent       Other-service   Not-in-family   Black   \n",
      "7      Married-civ-spouse     Exec-managerial         Husband   White   \n",
      "8           Never-married      Prof-specialty   Not-in-family   White   \n",
      "9      Married-civ-spouse     Exec-managerial         Husband   White   \n",
      "\n",
      "       sex  capital_gain  capital_loss  hours_per_week  native_country  income  \n",
      "0     Male          2174             0              40   United-States   <=50K  \n",
      "1     Male             0             0              13   United-States   <=50K  \n",
      "2     Male             0             0              40   United-States   <=50K  \n",
      "3     Male             0             0              40   United-States   <=50K  \n",
      "4   Female             0             0              40            Cuba   <=50K  \n",
      "5   Female             0             0              40   United-States   <=50K  \n",
      "6   Female             0             0              16         Jamaica   <=50K  \n",
      "7     Male             0             0              45   United-States    >50K  \n",
      "8   Female         14084             0              50   United-States    >50K  \n",
      "9     Male          5178             0              40   United-States    >50K  \n"
     ]
    }
   ],
   "source": [
    "'''sql db from adult dataset and name it sqladb\n",
    "1. Select 10 records from the adult sqladb'''\n",
    "\n",
    "print(pd.read_sql_query('SELECT * FROM sqladb limit 10', connection))"
   ]
  },
  {
   "cell_type": "code",
   "execution_count": 66,
   "metadata": {},
   "outputs": [
    {
     "data": {
      "text/plain": [
       "[(42.22122591006424,)]"
      ]
     },
     "execution_count": 66,
     "metadata": {},
     "output_type": "execute_result"
    }
   ],
   "source": [
    "'''2. Show me the average hours per week of all men who are working in private sector'''\n",
    "\n",
    "cursor.execute('SELECT avg(hours_per_week) as average FROM sqladb WHERE sex= \" Male\" AND workclass=\" Private\"').fetchall()\n"
   ]
  },
  {
   "cell_type": "code",
   "execution_count": 68,
   "metadata": {},
   "outputs": [
    {
     "name": "stdout",
     "output_type": "stream",
     "text": [
      "        education  count(education)\n",
      "0            10th               933\n",
      "1            11th              1175\n",
      "2            12th               433\n",
      "3         1st-4th               168\n",
      "4         5th-6th               333\n",
      "5         7th-8th               646\n",
      "6             9th               514\n",
      "7      Assoc-acdm              1067\n",
      "8       Assoc-voc              1382\n",
      "9       Bachelors              5355\n",
      "10      Doctorate               413\n",
      "11        HS-grad             10501\n",
      "12        Masters              1723\n",
      "13      Preschool                51\n",
      "14    Prof-school               576\n",
      "15   Some-college              7291\n"
     ]
    }
   ],
   "source": [
    "'''3.Show me the frequency table for education, occupation and relationship, separately'''\n",
    "\n",
    "#frequency table for education\n",
    "print(pd.read_sql_query('SELECT education, count(education) FROM sqladb GROUP BY education',connection))\n"
   ]
  },
  {
   "cell_type": "code",
   "execution_count": 69,
   "metadata": {},
   "outputs": [
    {
     "name": "stdout",
     "output_type": "stream",
     "text": [
      "            occupation  count(occupation)\n",
      "0                    ?               1843\n",
      "1         Adm-clerical               3770\n",
      "2         Armed-Forces                  9\n",
      "3         Craft-repair               4099\n",
      "4      Exec-managerial               4066\n",
      "5      Farming-fishing                994\n",
      "6    Handlers-cleaners               1370\n",
      "7    Machine-op-inspct               2002\n",
      "8        Other-service               3295\n",
      "9      Priv-house-serv                149\n",
      "10      Prof-specialty               4140\n",
      "11     Protective-serv                649\n",
      "12               Sales               3650\n",
      "13        Tech-support                928\n",
      "14    Transport-moving               1597\n"
     ]
    }
   ],
   "source": [
    "#frequency table for occupation\n",
    "print(pd.read_sql_query('SELECT occupation, count(occupation) FROM sqladb GROUP BY occupation',connection))\n"
   ]
  },
  {
   "cell_type": "code",
   "execution_count": 70,
   "metadata": {},
   "outputs": [
    {
     "name": "stdout",
     "output_type": "stream",
     "text": [
      "      relationship  count(*)\n",
      "0          Husband     13193\n",
      "1    Not-in-family      8305\n",
      "2   Other-relative       981\n",
      "3        Own-child      5068\n",
      "4        Unmarried      3446\n",
      "5             Wife      1568\n"
     ]
    }
   ],
   "source": [
    "#relationship frequency table\n",
    "print(pd.read_sql_query('SELECT relationship, count(*) FROM sqladb GROUP BY relationship',connection))\n"
   ]
  },
  {
   "cell_type": "code",
   "execution_count": 72,
   "metadata": {},
   "outputs": [
    {
     "name": "stdout",
     "output_type": "stream",
     "text": [
      "   index  age workclass  fnlwgt education  education_num       marital_status  \\\n",
      "0      5   37   Private  284582   Masters             14   Married-civ-spouse   \n",
      "1     87   33   Private  202051   Masters             14   Married-civ-spouse   \n",
      "2    100   76   Private  124191   Masters             14   Married-civ-spouse   \n",
      "3    188   31   Private   99928   Masters             14   Married-civ-spouse   \n",
      "4    198   35   Private  138992   Masters             14   Married-civ-spouse   \n",
      "\n",
      "         occupation     relationship    race      sex  capital_gain  \\\n",
      "0   Exec-managerial             Wife   White   Female             0   \n",
      "1    Prof-specialty          Husband   White     Male             0   \n",
      "2   Exec-managerial          Husband   White     Male             0   \n",
      "3    Prof-specialty             Wife   White   Female             0   \n",
      "4    Prof-specialty   Other-relative   White     Male          7298   \n",
      "\n",
      "   capital_loss  hours_per_week  native_country  income Net_Capital_Gain  \n",
      "0             0              40   United-States   <=50K                0  \n",
      "1             0              50   United-States   <=50K                0  \n",
      "2             0              40   United-States    >50K                0  \n",
      "3             0              50   United-States   <=50K                0  \n",
      "4             0              40   United-States    >50K             7298  \n"
     ]
    }
   ],
   "source": [
    "'''4. Are there any people who are married, working in private sector and having a masters\n",
    "degree'''\n",
    "\n",
    "print(pd.read_sql_query('''SELECT * FROM sqladb WHERE education=\" Masters\" AND workclass=\" Private\" AND marital_status IN (' Married-civ-spouse', ' Married-spouse-absent' , ' Married-AF-spouse')''',\n",
    "                       connection).head(5))"
   ]
  },
  {
   "cell_type": "code",
   "execution_count": 73,
   "metadata": {},
   "outputs": [
    {
     "data": {
      "text/plain": [
       "[(' ?', 40.960239651416124, 17, 90),\n",
       " (' Federal-gov', 42.590625, 17, 90),\n",
       " (' Local-gov', 41.75107501194458, 17, 90),\n",
       " (' Never-worked', 20.571428571428573, 17, 30),\n",
       " (' Private', 36.797585477617204, 17, 90),\n",
       " (' Self-emp-inc', 46.01702508960574, 17, 84),\n",
       " (' Self-emp-not-inc', 44.96969696969697, 17, 90),\n",
       " (' State-gov', 39.43605546995377, 17, 81),\n",
       " (' Without-pay', 47.785714285714285, 19, 72)]"
      ]
     },
     "execution_count": 73,
     "metadata": {},
     "output_type": "execute_result"
    }
   ],
   "source": [
    "'''5. What is the average, minimum and maximum age group for people working in different\n",
    "sectors'''\n",
    "\n",
    "cursor.execute('SELECT workclass, avg(age) as average, min(age), max(age) from sqladb group by workclass').fetchall()\n"
   ]
  },
  {
   "cell_type": "code",
   "execution_count": 57,
   "metadata": {},
   "outputs": [
    {
     "data": {
      "text/plain": [
       "[(' ?', 17, 90, 38.72555746140652),\n",
       " (' Cambodia', 18, 65, 37.78947368421053),\n",
       " (' Canada', 17, 80, 42.54545454545455),\n",
       " (' China', 22, 75, 42.53333333333333),\n",
       " (' Columbia', 18, 75, 39.71186440677966),\n",
       " (' Cuba', 21, 82, 45.76842105263158),\n",
       " (' Dominican-Republic', 18, 78, 37.72857142857143),\n",
       " (' Ecuador', 21, 90, 36.642857142857146),\n",
       " (' El-Salvador', 17, 79, 34.132075471698116),\n",
       " (' England', 17, 90, 41.15555555555556),\n",
       " (' France', 20, 64, 38.96551724137931),\n",
       " (' Germany', 18, 74, 39.25547445255474),\n",
       " (' Greece', 22, 65, 46.206896551724135),\n",
       " (' Guatemala', 19, 66, 32.421875),\n",
       " (' Haiti', 17, 63, 38.27272727272727),\n",
       " (' Holand-Netherlands', 32, 32, 32.0),\n",
       " (' Honduras', 18, 58, 33.84615384615385),\n",
       " (' Hong', 19, 60, 33.65),\n",
       " (' Hungary', 24, 81, 49.38461538461539),\n",
       " (' India', 17, 61, 38.09),\n",
       " (' Iran', 22, 63, 39.41860465116279),\n",
       " (' Ireland', 23, 68, 36.458333333333336),\n",
       " (' Italy', 19, 77, 46.42465753424658),\n",
       " (' Jamaica', 18, 66, 35.592592592592595),\n",
       " (' Japan', 19, 61, 38.24193548387097),\n",
       " (' Laos', 19, 56, 34.72222222222222),\n",
       " (' Mexico', 17, 81, 33.29082426127527),\n",
       " (' Nicaragua', 19, 67, 33.61764705882353),\n",
       " (' Outlying-US(Guam-USVI-etc)', 21, 63, 38.714285714285715),\n",
       " (' Peru', 17, 69, 35.25806451612903),\n",
       " (' Philippines', 17, 90, 39.44444444444444),\n",
       " (' Poland', 17, 85, 43.11666666666667),\n",
       " (' Portugal', 19, 78, 40.2972972972973),\n",
       " (' Puerto-Rico', 17, 90, 40.50877192982456),\n",
       " (' Scotland', 18, 62, 40.416666666666664),\n",
       " (' South', 19, 90, 38.75),\n",
       " (' Taiwan', 20, 61, 33.8235294117647),\n",
       " (' Thailand', 19, 55, 34.94444444444444),\n",
       " (' Trinadad&Tobago', 17, 61, 41.31578947368421),\n",
       " (' United-States', 17, 90, 38.65567363729859),\n",
       " (' Vietnam', 19, 73, 34.059701492537314),\n",
       " (' Yugoslavia', 20, 66, 38.8125)]"
      ]
     },
     "execution_count": 57,
     "metadata": {},
     "output_type": "execute_result"
    }
   ],
   "source": [
    "'''6. Calculate age distribution by country'''\n",
    "\n",
    "#distribution by minimum age, maximum age and average age of countries\n",
    "cursor.execute('SELECT native_country, min(age), max(age), avg(age) from sqladb group by native_country').fetchall()"
   ]
  },
  {
   "cell_type": "code",
   "execution_count": 83,
   "metadata": {},
   "outputs": [
    {
     "data": {
      "text/plain": [
       "<sqlite3.Cursor at 0x1be1529d0a0>"
      ]
     },
     "execution_count": 83,
     "metadata": {},
     "output_type": "execute_result"
    }
   ],
   "source": [
    "'''7. Compute a new column as 'Net-Capital-Gain' from the two columns 'capital-gain' and\n",
    "'capital-loss'''\n",
    "\n",
    "cursor.execute('ALTER TABLE sqladb ADD COLUMN Net_Capital_Gain varchar(20)')\n",
    "cursor.execute('UPDATE sqladb SET Net_Capital_Gain = capital_gain - capital_loss')\n"
   ]
  },
  {
   "cell_type": "code",
   "execution_count": 84,
   "metadata": {},
   "outputs": [
    {
     "name": "stdout",
     "output_type": "stream",
     "text": [
      "  Net_Capital_Gain\n",
      "0             2174\n",
      "1                0\n",
      "2                0\n",
      "3                0\n",
      "4                0\n"
     ]
    }
   ],
   "source": [
    "print(pd.read_sql_query('SELECT Net_Capital_Gain FROM sqladb',\n",
    "                        connection).head(5))"
   ]
  },
  {
   "cell_type": "code",
   "execution_count": 85,
   "metadata": {},
   "outputs": [],
   "source": [
    "'''Task 2:\n",
    "1. Create an sqlalchemy engine using a sample from the data set'''\n",
    "\n",
    "import sqlalchemy\n",
    "import sqlite3\n",
    "from sqlalchemy import create_engine\n",
    "engine = create_engine('sqlite:///sqladb', echo=False)\n",
    "df.to_sql('sqladb', engine, if_exists='replace')\n",
    "\n",
    "connection  = sqlite3.connect(\"sqladb\")\n",
    "cursor = connection.cursor()"
   ]
  },
  {
   "cell_type": "code",
   "execution_count": 86,
   "metadata": {},
   "outputs": [
    {
     "name": "stdout",
     "output_type": "stream",
     "text": [
      "   index  age          workclass  fnlwgt   education  education_num  \\\n",
      "0      0   39          State-gov   77516   Bachelors             13   \n",
      "1      1   50   Self-emp-not-inc   83311   Bachelors             13   \n",
      "2      2   38            Private  215646     HS-grad              9   \n",
      "3      3   53            Private  234721        11th              7   \n",
      "4      4   28            Private  338409   Bachelors             13   \n",
      "\n",
      "        marital_status          occupation    relationship    race      sex  \\\n",
      "0        Never-married        Adm-clerical   Not-in-family   White     Male   \n",
      "1   Married-civ-spouse     Exec-managerial         Husband   White     Male   \n",
      "2             Divorced   Handlers-cleaners   Not-in-family   White     Male   \n",
      "3   Married-civ-spouse   Handlers-cleaners         Husband   Black     Male   \n",
      "4   Married-civ-spouse      Prof-specialty            Wife   Black   Female   \n",
      "\n",
      "   capital_gain  capital_loss  hours_per_week  native_country  income  \n",
      "0          2174             0              40   United-States   <=50K  \n",
      "1             0             0              13   United-States   <=50K  \n",
      "2             0             0              40   United-States   <=50K  \n",
      "3             0             0              40   United-States   <=50K  \n",
      "4             0             0              40            Cuba   <=50K  \n"
     ]
    }
   ],
   "source": [
    "print(pd.read_sql_query(\"SELECT * FROM sqladb\", connection).head(5))\n"
   ]
  },
  {
   "cell_type": "code",
   "execution_count": 87,
   "metadata": {},
   "outputs": [
    {
     "name": "stdout",
     "output_type": "stream",
     "text": [
      "   index  age workclass  fnlwgt education  education_num       marital_status  \\\n",
      "0      3   53   Private  284786      11th              7   Married-civ-spouse   \n",
      "\n",
      "           occupation relationship    race    sex  capital_gain  capital_loss  \\\n",
      "0   Handlers-cleaners      Husband   Black   Male             0             0   \n",
      "\n",
      "   hours_per_week  native_country  income  \n",
      "0              40   United-States   <=50K  \n"
     ]
    }
   ],
   "source": [
    "'''2. Write two basic update queries'''\n",
    "\n",
    "#Update Query 1\n",
    "cursor.execute('UPDATE sqladb SET fnlwgt = \"284786\" WHERE fnlwgt = \" 234721\"')\n",
    "print(pd.read_sql_query('SELECT * from sqladb where fnlwgt = \"284786\"', connection))"
   ]
  },
  {
   "cell_type": "code",
   "execution_count": 33,
   "metadata": {},
   "outputs": [
    {
     "name": "stdout",
     "output_type": "stream",
     "text": [
      "   index  age workclass  fnlwgt education  education_num       marital_status  \\\n",
      "0      3   53   Private  284786      11th              7   Married-civ-spouse   \n",
      "\n",
      "           occupation relationship    race    sex  capital_gain  capital_loss  \\\n",
      "0   Handlers-cleaners      Husband   Black   Male             0             0   \n",
      "\n",
      "   hours_per_week  native_country  income  \n",
      "0              40   United-States   <=50K  \n"
     ]
    }
   ],
   "source": [
    "#Update Query 2\n",
    "cursor.execute('UPDATE sqladb SET workclass = \"Private Sector\" WHERE workclass = \" Private\"')\n",
    "print(pd.read_sql_query(\"SELECT * FROM sqladb\", connection))"
   ]
  },
  {
   "cell_type": "code",
   "execution_count": 34,
   "metadata": {},
   "outputs": [
    {
     "name": "stdout",
     "output_type": "stream",
     "text": [
      "       index  age       workclass  fnlwgt    education  education_num  \\\n",
      "32556  32556   27  Private Sector  257302   Assoc-acdm             12   \n",
      "32557  32557   40  Private Sector  154374      HS-grad              9   \n",
      "32558  32558   58  Private Sector  151910      HS-grad              9   \n",
      "32559  32559   22  Private Sector  201490      HS-grad              9   \n",
      "32560  32560   52    Self-emp-inc  287927      HS-grad              9   \n",
      "\n",
      "            marital_status          occupation relationship    race      sex  \\\n",
      "32556   Married-civ-spouse        Tech-support         Wife   White   Female   \n",
      "32557   Married-civ-spouse   Machine-op-inspct      Husband   White     Male   \n",
      "32558              Widowed        Adm-clerical    Unmarried   White   Female   \n",
      "32559        Never-married        Adm-clerical    Own-child   White     Male   \n",
      "32560   Married-civ-spouse     Exec-managerial         Wife   White   Female   \n",
      "\n",
      "       capital_gain  capital_loss  hours_per_week  native_country  income  \n",
      "32556             0             0              38   United-States   <=50K  \n",
      "32557             0             0              40   United-States    >50K  \n",
      "32558             0             0              40   United-States   <=50K  \n",
      "32559             0             0              20   United-States   <=50K  \n",
      "32560         15024             0              40   United-States    >50K  \n"
     ]
    }
   ],
   "source": [
    "'''3. Write two delete queries'''\n",
    "\n",
    "# Delete Query 1\n",
    "cursor.execute('DELETE FROM sqladb WHERE fnlwgt = \" 234721\"')\n",
    "print(pd.read_sql_query('SELECT * FROM sqladb where fnlwgt = \"234721\"', connection).head(5))"
   ]
  },
  {
   "cell_type": "code",
   "execution_count": 88,
   "metadata": {},
   "outputs": [
    {
     "name": "stdout",
     "output_type": "stream",
     "text": [
      "Empty DataFrame\n",
      "Columns: [index, age, workclass, fnlwgt, education, education_num, marital_status, occupation, relationship, race, sex, capital_gain, capital_loss, hours_per_week, native_country, income]\n",
      "Index: []\n"
     ]
    }
   ],
   "source": [
    "#Delete Query 2\n",
    "cursor.execute('DELETE FROM sqladb WHERE age = \" 38\" AND fnlwgt = \"215646\"')\n",
    "print(pd.read_sql_query('SELECT * FROM sqladb WHERE age = \" 38\" AND fnlwgt = \"215646\"', connection).head(5))"
   ]
  },
  {
   "cell_type": "code",
   "execution_count": 89,
   "metadata": {},
   "outputs": [
    {
     "name": "stdout",
     "output_type": "stream",
     "text": [
      "[(12966, 23, ' Private', 526164, ' Bachelors', 13, ' Never-married', ' Adm-clerical', ' Unmarried', ' Black', ' Female', 0, 0, 40, ' United-States', ' <=50K'), (16658, 22, ' Private', 203182, ' Bachelors', 13, ' Never-married', ' Exec-managerial', ' Unmarried', ' White', ' Female', 0, 0, 30, ' United-States', ' <=50K'), (20336, 24, ' Private', 187937, ' Bachelors', 13, ' Never-married', ' Prof-specialty', ' Unmarried', ' White', ' Female', 0, 0, 40, ' United-States', ' <=50K'), (31479, 24, ' Private', 498349, ' Bachelors', 13, ' Never-married', ' Transport-moving', ' Unmarried', ' Black', ' Female', 0, 0, 40, ' United-States', ' <=50K')]\n"
     ]
    }
   ],
   "source": [
    "'''4. Write two filter queries'''\n",
    "\n",
    "#Filter Query 1\n",
    "cursor.execute('SELECT DISTINCT * FROM sqladb WHERE education = \" Bachelors\" AND age < 25 AND relationship = \" Unmarried\" AND sex = \" Female\" and native_country=\" United-States\"')\n",
    "output = cursor.fetchall()\n",
    "print(output)"
   ]
  },
  {
   "cell_type": "code",
   "execution_count": 90,
   "metadata": {},
   "outputs": [
    {
     "name": "stdout",
     "output_type": "stream",
     "text": [
      "[(1095, 22, ' Self-emp-not-inc', 361280, ' Bachelors', 13, ' Never-married', ' Prof-specialty', ' Own-child', ' Asian-Pac-Islander', ' Male', 0, 0, 20, ' India', ' <=50K')]\n"
     ]
    }
   ],
   "source": [
    "#Filter Query 2\n",
    "\n",
    "cursor.execute('SELECT DISTINCT * FROM sqladb WHERE education = \" Bachelors\" and age < 25 and income <= \"50k\" and native_country=\" India\"')\n",
    "output = cursor.fetchall()\n",
    "print(output)"
   ]
  },
  {
   "cell_type": "code",
   "execution_count": 91,
   "metadata": {},
   "outputs": [
    {
     "name": "stdout",
     "output_type": "stream",
     "text": [
      "   index  age workclass   fnlwgt education  education_num marital_status  \\\n",
      "0  32660   30   Private  7861369   Masters              9        Married   \n",
      "\n",
      "  occupation relationship    race   sex  capital_gain  capital_loss  \\\n",
      "0  Front_End    In_Family  Indian  Male             0             0   \n",
      "\n",
      "   hours_per_week native_country income  \n",
      "0              40  United-States  >=50K  \n"
     ]
    }
   ],
   "source": [
    "'''5. Write two function queries'''\n",
    "#Function Query 1\n",
    "\n",
    "def new_entry(db_file, new_data):\n",
    "    \n",
    "    query = \"INSERT INTO sqladb VALUES (?, ?, ?, ?, ?, ?, ?, ?, ?, ?, ?, ?, ?, ?, ?, ?);\"\n",
    "\n",
    "    cursor.execute(query, list(new_data))\n",
    "\n",
    "new_entry('sqladb',('32660', '30','Private', '7861369', 'Masters', '9', 'Married', 'Front_End', 'In_Family', 'Indian', 'Male', '0', '0', '40', 'United-States', '>=50K'))\n",
    "print(pd.read_sql_query('SELECT * from sqladb where fnlwgt =\"7861369\"',connection))"
   ]
  },
  {
   "cell_type": "code",
   "execution_count": 92,
   "metadata": {},
   "outputs": [
    {
     "name": "stdout",
     "output_type": "stream",
     "text": [
      "[(44.490311710193765,)]\n"
     ]
    }
   ],
   "source": [
    "#Function Query 2\n",
    "def age_check():\n",
    "    cursor.execute('SELECT avg(age) FROM sqladb WHERE education=\" Masters\" AND sex=\" Male\"')\n",
    "    output = cursor.fetchall()\n",
    "    print(output)    \n",
    "\n",
    "    \n",
    "age_check()"
   ]
  },
  {
   "cell_type": "code",
   "execution_count": 93,
   "metadata": {},
   "outputs": [],
   "source": [
    " connection.close()\n"
   ]
  },
  {
   "cell_type": "code",
   "execution_count": 41,
   "metadata": {},
   "outputs": [],
   "source": []
  },
  {
   "cell_type": "code",
   "execution_count": null,
   "metadata": {},
   "outputs": [],
   "source": []
  },
  {
   "cell_type": "code",
   "execution_count": null,
   "metadata": {},
   "outputs": [],
   "source": []
  },
  {
   "cell_type": "code",
   "execution_count": 45,
   "metadata": {},
   "outputs": [],
   "source": []
  },
  {
   "cell_type": "code",
   "execution_count": null,
   "metadata": {},
   "outputs": [],
   "source": []
  }
 ],
 "metadata": {
  "kernelspec": {
   "display_name": "Python 3",
   "language": "python",
   "name": "python3"
  },
  "language_info": {
   "codemirror_mode": {
    "name": "ipython",
    "version": 3
   },
   "file_extension": ".py",
   "mimetype": "text/x-python",
   "name": "python",
   "nbconvert_exporter": "python",
   "pygments_lexer": "ipython3",
   "version": "3.7.0"
  }
 },
 "nbformat": 4,
 "nbformat_minor": 2
}
